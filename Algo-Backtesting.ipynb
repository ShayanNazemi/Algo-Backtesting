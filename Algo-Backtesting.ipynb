{
 "cells": [
  {
   "cell_type": "markdown",
   "metadata": {
    "id": "Df7TBjf2UntJ"
   },
   "source": [
    "# Imporing Required Packages"
   ]
  },
  {
   "cell_type": "code",
   "execution_count": 1,
   "metadata": {
    "id": "7l4sJ1XKTDQQ"
   },
   "outputs": [],
   "source": [
    "import numpy as np\n",
    "import pandas as pd\n",
    "import matplotlib.pylab as plt\n",
    "import warnings\n",
    "warnings.simplefilter(action='ignore')"
   ]
  },
  {
   "cell_type": "markdown",
   "metadata": {
    "id": "3hKo8fmlUquL"
   },
   "source": [
    "# Backtesting Script"
   ]
  },
  {
   "cell_type": "code",
   "execution_count": 2,
   "metadata": {
    "id": "etNRMJamTWYb"
   },
   "outputs": [],
   "source": [
    "def extract_position(s):\n",
    "    if s.iloc[0] == 1:\n",
    "        start_index = [s.index[0], *s.loc[(s == 1) & (s.shift(1) == 0)].index]\n",
    "    else:\n",
    "        start_index = [*s.loc[(s == 1) & (s.shift(1) == 0)].index]\n",
    "\n",
    "    if s.iloc[-1] == 1:\n",
    "        end_index = [*s.loc[(s.shift(-1) == 0) & (s == 1)].index, s.index[-1]]\n",
    "    else:\n",
    "        end_index = [*s.loc[(s.shift(-1) == 0) & (s == 1)].index]\n",
    "\n",
    "    return np.array(start_index), np.array(end_index)\n",
    "\n",
    "class BacktestResult:\n",
    "    def __init__(self, df, buy_equity, sell_equity):\n",
    "        self.df = df\n",
    "        self.buy_equity = buy_equity\n",
    "        self.sell_equity = sell_equity\n",
    "        self._compute()\n",
    "\n",
    "    def _compute(self):\n",
    "        if self.df is not None:\n",
    "            buy_start, buy_end = extract_position(self.df['asset_buy'])\n",
    "            self.buy_start = buy_start\n",
    "            self.buy_end = buy_end\n",
    "\n",
    "            sell_start, sell_end = extract_position(self.df['asset_sell'])\n",
    "            self.sell_start = sell_start\n",
    "            self.sell_end = sell_end\n",
    "\n",
    "        self.equity = self.buy_equity * self.sell_equity\n",
    "\n",
    "    def equity_curve(self):\n",
    "        return pd.DataFrame({'buy' : self.buy_equity,\n",
    "                             'sell' : self.sell_equity,\n",
    "                             'total' : self.equity})\n",
    "\n",
    "def backtest(df, fee_rate):\n",
    "    REQUIRED_COLUMNS = ['buy', 'close_buy', 'sell', 'close_sell']\n",
    "    check = all([c in df.columns for c in REQUIRED_COLUMNS])\n",
    "    assert check, f'Not all of the properties {REQUIRED_COLUMNS} exist in input dataframe'\n",
    "\n",
    "    df['asset_buy'] = np.nan\n",
    "    df['asset_sell'] = np.nan\n",
    "\n",
    "    df['asset_buy'].loc[df['buy']] = 1\n",
    "    df['asset_buy'].loc[df['close_buy']] = 0\n",
    "\n",
    "    df['asset_sell'].loc[df['sell']] = 1\n",
    "    df['asset_sell'].loc[df['close_sell']] = 0\n",
    "\n",
    "    df['asset_buy'] = df.asset_buy.fillna(method='pad').fillna(0)\n",
    "    df['asset_sell'] = df.asset_sell.fillna(method='pad').fillna(0)\n",
    "    df['asset_buy'] = df['asset_buy'].shift(1)\n",
    "    df['asset_sell'] = df['asset_sell'].shift(1)\n",
    "\n",
    "    df['fee'] = 0\n",
    "    buy_start, buy_end = extract_position(df['asset_buy'])\n",
    "    sell_start, sell_end = extract_position(df['asset_sell'])\n",
    "\n",
    "    df['fee'].loc[buy_start] += fee_rate\n",
    "    df['fee'].loc[buy_end] += fee_rate\n",
    "    df['fee'].loc[sell_start] += fee_rate\n",
    "    df['fee'].loc[sell_end] += fee_rate\n",
    "\n",
    "    df.dropna(inplace=True)\n",
    "\n",
    "    eq_buy = (1 + ((df.c.pct_change() - df.fee) * df.asset_buy).dropna()).cumprod()\n",
    "    eq_sell = (1 + ((-df.c.pct_change() - df.fee) * df.asset_sell).dropna()).cumprod()\n",
    "\n",
    "    return BacktestResult(df, eq_buy, eq_sell)"
   ]
  },
  {
   "cell_type": "markdown",
   "metadata": {
    "id": "yghrnvtCUs2w"
   },
   "source": [
    "# Strategy Class"
   ]
  },
  {
   "cell_type": "code",
   "execution_count": 3,
   "metadata": {
    "id": "aiNGUR7bF-5j"
   },
   "outputs": [],
   "source": [
    "from abc import abstractmethod\n",
    "\n",
    "class Strategy:\n",
    "    def __init__(self):\n",
    "        pass\n",
    "\n",
    "    @abstractmethod\n",
    "    def generate(self):\n",
    "        raise NotImplementedError(\"Must Implement 'generate' method\")\n",
    "\n",
    "class SimpleTrendFollowing(Strategy):\n",
    "    def __init__(self, w_short, w_long):\n",
    "        self.w_short = w_short\n",
    "        self.w_long = w_long\n",
    "\n",
    "    def generate(self, data, price_col='close'):\n",
    "        df = pd.DataFrame(data[price_col], columns=[price_col])\n",
    "\n",
    "        trend_short = data[price_col].rolling(self.w_short).mean()\n",
    "        df[f'ma{self.w_short}'] = trend_short\n",
    "\n",
    "        trend_long = data[price_col].rolling(self.w_long).mean()\n",
    "        df[f'ma{self.w_long}'] = trend_long\n",
    "\n",
    "        df.dropna(inplace=True)\n",
    "        df['buy'] = (trend_short >= trend_long) & (trend_short.shift(1) < trend_long.shift(1))\n",
    "        df['close_buy'] = (trend_short <= trend_long) & (trend_short.shift(1) > trend_long.shift(1))\n",
    "\n",
    "        df['sell'] = (trend_short <= trend_long) & (trend_short.shift(1) > trend_long.shift(1))\n",
    "        df['close_sell'] = (trend_short >= trend_long) & (trend_short.shift(1) < trend_long.shift(1))\n",
    "\n",
    "        return df"
   ]
  },
  {
   "cell_type": "markdown",
   "metadata": {
    "id": "8UGfxXipUvRq"
   },
   "source": [
    "# Backtesting on BTCUSDT"
   ]
  },
  {
   "cell_type": "code",
   "execution_count": 4,
   "metadata": {
    "id": "0m60TMUA7pb0"
   },
   "outputs": [],
   "source": [
    "# Loading price data\n",
    "df = pd.read_csv('btcusdt_5m_2022Q4.csv', index_col='c_t', parse_dates=True)\n",
    "\n",
    "# Creating a \"SimpleTrendFollowing\" object\n",
    "strategy = SimpleTrendFollowing(w_short=50, w_long=200)\n",
    "\n",
    "# Generate signal for our dataset\n",
    "df_res = strategy.generate(df, price_col='c')\n",
    "\n",
    "# Backtesting generated signals\n",
    "FEE_RATE = 0.0005 # 0.05%\n",
    "backtest_res = backtest(df_res, fee_rate=FEE_RATE)"
   ]
  },
  {
   "cell_type": "markdown",
   "metadata": {
    "id": "Rk12slC-Uy3-"
   },
   "source": [
    "## Equity"
   ]
  },
  {
   "cell_type": "code",
   "execution_count": 5,
   "metadata": {
    "colab": {
     "base_uri": "https://localhost:8080/",
     "height": 455
    },
    "id": "1bssJBry9HwC",
    "outputId": "d71ec17d-cb1d-465a-ae10-f767c59167b8"
   },
   "outputs": [
    {
     "data": {
      "text/html": [
       "<div>\n",
       "<style scoped>\n",
       "    .dataframe tbody tr th:only-of-type {\n",
       "        vertical-align: middle;\n",
       "    }\n",
       "\n",
       "    .dataframe tbody tr th {\n",
       "        vertical-align: top;\n",
       "    }\n",
       "\n",
       "    .dataframe thead th {\n",
       "        text-align: right;\n",
       "    }\n",
       "</style>\n",
       "<table border=\"1\" class=\"dataframe\">\n",
       "  <thead>\n",
       "    <tr style=\"text-align: right;\">\n",
       "      <th></th>\n",
       "      <th>buy</th>\n",
       "      <th>sell</th>\n",
       "      <th>total</th>\n",
       "    </tr>\n",
       "    <tr>\n",
       "      <th>c_t</th>\n",
       "      <th></th>\n",
       "      <th></th>\n",
       "      <th></th>\n",
       "    </tr>\n",
       "  </thead>\n",
       "  <tbody>\n",
       "    <tr>\n",
       "      <th>2022-10-01 16:45:00</th>\n",
       "      <td>1.000000</td>\n",
       "      <td>1.00000</td>\n",
       "      <td>1.000000</td>\n",
       "    </tr>\n",
       "    <tr>\n",
       "      <th>2022-10-01 16:50:00</th>\n",
       "      <td>1.000000</td>\n",
       "      <td>1.00000</td>\n",
       "      <td>1.000000</td>\n",
       "    </tr>\n",
       "    <tr>\n",
       "      <th>2022-10-01 16:55:00</th>\n",
       "      <td>1.000000</td>\n",
       "      <td>1.00000</td>\n",
       "      <td>1.000000</td>\n",
       "    </tr>\n",
       "    <tr>\n",
       "      <th>2022-10-01 17:00:00</th>\n",
       "      <td>1.000000</td>\n",
       "      <td>1.00000</td>\n",
       "      <td>1.000000</td>\n",
       "    </tr>\n",
       "    <tr>\n",
       "      <th>2022-10-01 17:05:00</th>\n",
       "      <td>1.000000</td>\n",
       "      <td>1.00000</td>\n",
       "      <td>1.000000</td>\n",
       "    </tr>\n",
       "    <tr>\n",
       "      <th>...</th>\n",
       "      <td>...</td>\n",
       "      <td>...</td>\n",
       "      <td>...</td>\n",
       "    </tr>\n",
       "    <tr>\n",
       "      <th>2023-01-01 23:35:00</th>\n",
       "      <td>0.943521</td>\n",
       "      <td>1.05626</td>\n",
       "      <td>0.996604</td>\n",
       "    </tr>\n",
       "    <tr>\n",
       "      <th>2023-01-01 23:40:00</th>\n",
       "      <td>0.943349</td>\n",
       "      <td>1.05626</td>\n",
       "      <td>0.996422</td>\n",
       "    </tr>\n",
       "    <tr>\n",
       "      <th>2023-01-01 23:45:00</th>\n",
       "      <td>0.943286</td>\n",
       "      <td>1.05626</td>\n",
       "      <td>0.996355</td>\n",
       "    </tr>\n",
       "    <tr>\n",
       "      <th>2023-01-01 23:50:00</th>\n",
       "      <td>0.943046</td>\n",
       "      <td>1.05626</td>\n",
       "      <td>0.996102</td>\n",
       "    </tr>\n",
       "    <tr>\n",
       "      <th>2023-01-01 23:55:00</th>\n",
       "      <td>0.942857</td>\n",
       "      <td>1.05626</td>\n",
       "      <td>0.995903</td>\n",
       "    </tr>\n",
       "  </tbody>\n",
       "</table>\n",
       "<p>26583 rows × 3 columns</p>\n",
       "</div>"
      ],
      "text/plain": [
       "                          buy     sell     total\n",
       "c_t                                             \n",
       "2022-10-01 16:45:00  1.000000  1.00000  1.000000\n",
       "2022-10-01 16:50:00  1.000000  1.00000  1.000000\n",
       "2022-10-01 16:55:00  1.000000  1.00000  1.000000\n",
       "2022-10-01 17:00:00  1.000000  1.00000  1.000000\n",
       "2022-10-01 17:05:00  1.000000  1.00000  1.000000\n",
       "...                       ...      ...       ...\n",
       "2023-01-01 23:35:00  0.943521  1.05626  0.996604\n",
       "2023-01-01 23:40:00  0.943349  1.05626  0.996422\n",
       "2023-01-01 23:45:00  0.943286  1.05626  0.996355\n",
       "2023-01-01 23:50:00  0.943046  1.05626  0.996102\n",
       "2023-01-01 23:55:00  0.942857  1.05626  0.995903\n",
       "\n",
       "[26583 rows x 3 columns]"
      ]
     },
     "execution_count": 5,
     "metadata": {},
     "output_type": "execute_result"
    }
   ],
   "source": [
    "backtest_res.equity_curve()"
   ]
  },
  {
   "cell_type": "code",
   "execution_count": 6,
   "metadata": {
    "colab": {
     "base_uri": "https://localhost:8080/",
     "height": 527
    },
    "id": "ojIwY32PG6Yg",
    "outputId": "c657e23b-f2d0-4caf-c6b7-0c854214f6c5"
   },
   "outputs": [
    {
     "data": {
      "image/png": "[encoded data removed]",
      "text/plain": [
       "<Figure size 720x432 with 3 Axes>"
      ]
     },
     "metadata": {
      "needs_background": "light"
     },
     "output_type": "display_data"
    }
   ],
   "source": [
    "eq = backtest_res.equity_curve()\n",
    "fig, (ax1, ax2, ax3) = plt.subplots(nrows=3, ncols=1, figsize=(10, 6))\n",
    "\n",
    "ax1.plot(eq.buy, label='Buy Equity')\n",
    "ax1.legend()\n",
    "ax1.grid()\n",
    "\n",
    "ax2.plot(eq.sell, label='Sell Equity')\n",
    "ax2.legend()\n",
    "ax2.grid()\n",
    "\n",
    "ax3.plot(eq.total, label='Total Equity')\n",
    "ax3.legend()\n",
    "ax3.grid()"
   ]
  },
  {
   "cell_type": "markdown",
   "metadata": {
    "id": "3-ZtAsVQU1n9"
   },
   "source": [
    "## Analysis"
   ]
  },
  {
   "cell_type": "code",
   "execution_count": 7,
   "metadata": {
    "colab": {
     "base_uri": "https://localhost:8080/"
    },
    "id": "r7VYhB_o9O4u",
    "outputId": "d699f019-ba75-46d5-9f47-c642bca22a7e"
   },
   "outputs": [
    {
     "name": "stdout",
     "output_type": "stream",
     "text": [
      "Number of buy positions : 90\n",
      "Number of sell positions : 89\n",
      "\n",
      "Average duration of buy positions : 0 days 11:09:03.333333333\n",
      "Average duration of sell positions : 0 days 13:20:53.932584269\n"
     ]
    }
   ],
   "source": [
    "assert len(backtest_res.buy_start) == len(backtest_res.buy_end)\n",
    "print(f'Number of buy positions : {len(backtest_res.buy_start)}')\n",
    "\n",
    "assert len(backtest_res.sell_start) == len(backtest_res.sell_end)\n",
    "print(f'Number of sell positions : {len(backtest_res.sell_start)}')\n",
    "\n",
    "print(f'\\nAverage duration of buy positions : {(backtest_res.buy_end - backtest_res.buy_start).mean()}')\n",
    "print(f'Average duration of sell positions : {(backtest_res.sell_end - backtest_res.sell_start).mean()}')"
   ]
  },
  {
   "cell_type": "code",
   "execution_count": null,
   "metadata": {
    "id": "tasxeKq2K8Dl"
   },
   "outputs": [],
   "source": []
  }
 ],
 "metadata": {
  "colab": {
   "provenance": []
  },
  "kernelspec": {
   "display_name": "Python 3",
   "language": "python",
   "name": "python3"
  },
  "language_info": {
   "codemirror_mode": {
    "name": "ipython",
    "version": 3
   },
   "file_extension": ".py",
   "mimetype": "text/x-python",
   "name": "python",
   "nbconvert_exporter": "python",
   "pygments_lexer": "ipython3",
   "version": "3.8.12"
  }
 },
 "nbformat": 4,
 "nbformat_minor": 1
}
